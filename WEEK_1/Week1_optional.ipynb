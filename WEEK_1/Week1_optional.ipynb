{
  "cells": [
    {
      "cell_type": "markdown",
      "metadata": {
        "pycharm": {
          "name": "#%% md\n"
        },
        "id": "1eTMf-Ua_Q5m"
      },
      "source": [
        "# Optional Lab:  Brief Introduction to Python and Jupyter Notebooks\n",
        "Welcome to the first optional lab!\n",
        "Optional labs are available to:\n",
        "- provide information - like this notebook\n",
        "- reinforce lecture material with hands-on examples\n",
        "- provide working examples of routines used in the graded labs"
      ],
      "id": "1eTMf-Ua_Q5m"
    },
    {
      "cell_type": "code",
      "source": [
        "from google.colab import drive\n",
        "drive.mount('/content/drive')"
      ],
      "metadata": {
        "colab": {
          "base_uri": "https://localhost:8080/"
        },
        "id": "SOg0p60p_T0G",
        "outputId": "fd59443c-c771-4f5a-cb38-9aba9a8f6c58"
      },
      "id": "SOg0p60p_T0G",
      "execution_count": null,
      "outputs": [
        {
          "output_type": "stream",
          "name": "stdout",
          "text": [
            "Mounted at /content/drive\n"
          ]
        }
      ]
    },
    {
      "cell_type": "markdown",
      "metadata": {
        "pycharm": {
          "name": "#%% md\n"
        },
        "id": "kFj4LwPO_Q5p"
      },
      "source": [
        "## Goals\n",
        "In this lab, you will:\n",
        "- Get a brief introduction to Jupyter notebooks\n",
        "- Take a tour of Jupyter notebooks\n",
        "- Learn the difference between markdown cells and code cells\n",
        "- Practice some basic python\n"
      ],
      "id": "kFj4LwPO_Q5p"
    },
    {
      "cell_type": "markdown",
      "metadata": {
        "pycharm": {
          "name": "#%% md\n"
        },
        "id": "NQYbUJhT_Q5q"
      },
      "source": [
        "Jupyter notebooks have two types of cells that are used in this course. Cells such as this which contain documentation called `Markdown Cells`. The name is derived from the simple formatting language used in the cells. You will not be required to produce markdown cells. Its useful to understand the `cell pulldown` shown in graphic below. Occasionally, a cell will end up in the wrong mode and you may need to restore it to the right state:"
      ],
      "id": "NQYbUJhT_Q5q"
    },
    {
      "cell_type": "markdown",
      "metadata": {
        "pycharm": {
          "name": "#%% md\n"
        },
        "id": "K0lFFygw_Q5q"
      },
      "source": [
        "The easiest way to become familiar with Jupyter notebooks is to take the tour available above in the Help menu:"
      ],
      "id": "K0lFFygw_Q5q"
    },
    {
      "cell_type": "markdown",
      "metadata": {
        "pycharm": {
          "name": "#%% md\n"
        },
        "id": "bhYDB6Iw_Q5r"
      },
      "source": [
        "The other type of cell is the `code cell` where you will write your code:"
      ],
      "id": "bhYDB6Iw_Q5r"
    },
    {
      "cell_type": "code",
      "execution_count": null,
      "metadata": {
        "pycharm": {
          "name": "#%%\n"
        },
        "colab": {
          "base_uri": "https://localhost:8080/"
        },
        "id": "eOtT3wZn_Q5s",
        "outputId": "1e1338fc-dc2f-4a2c-9d9a-95432ee4b403"
      },
      "outputs": [
        {
          "output_type": "stream",
          "name": "stdout",
          "text": [
            "This is  code cell\n"
          ]
        }
      ],
      "source": [
        "#This is  a 'Code' Cell\n",
        "print(\"This is  code cell\")"
      ],
      "id": "eOtT3wZn_Q5s"
    },
    {
      "cell_type": "markdown",
      "metadata": {
        "pycharm": {
          "name": "#%% md\n"
        },
        "id": "NuDTbXiT_Q5t"
      },
      "source": [
        "### Print statement\n",
        "Print statements will generally use the python f-string style.  \n",
        "Try creating your own print in the following cell.  \n",
        "Try both methods of running the cell."
      ],
      "id": "NuDTbXiT_Q5t"
    },
    {
      "cell_type": "code",
      "execution_count": null,
      "metadata": {
        "pycharm": {
          "name": "#%%\n"
        },
        "colab": {
          "base_uri": "https://localhost:8080/"
        },
        "id": "uvyNGtNA_Q5u",
        "outputId": "c0d1657e-4a9d-4671-c87a-8ba5c8382ba3"
      },
      "outputs": [
        {
          "output_type": "stream",
          "name": "stdout",
          "text": [
            "f strings allow you to embed variables right in the strings!\n"
          ]
        }
      ],
      "source": [
        "# print statements\n",
        "variable = \"right in the strings!\"\n",
        "print(f\"f strings allow you to embed variables {variable}\")"
      ],
      "id": "uvyNGtNA_Q5u"
    },
    {
      "cell_type": "markdown",
      "metadata": {
        "pycharm": {
          "name": "#%% md\n"
        },
        "id": "ehaBYU15_Q5u"
      },
      "source": [
        "# Congratulations!\n",
        "You now know how to find your way around a Jupyter Notebook."
      ],
      "id": "ehaBYU15_Q5u"
    }
  ],
  "metadata": {
    "kernelspec": {
      "display_name": "Python 3",
      "language": "python",
      "name": "python3"
    },
    "language_info": {
      "codemirror_mode": {
        "name": "ipython",
        "version": 3
      },
      "file_extension": ".py",
      "mimetype": "text/x-python",
      "name": "python",
      "nbconvert_exporter": "python",
      "pygments_lexer": "ipython3",
      "version": "3.7.6"
    },
    "colab": {
      "provenance": []
    }
  },
  "nbformat": 4,
  "nbformat_minor": 5
}